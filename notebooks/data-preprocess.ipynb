{
 "cells": [
  {
   "cell_type": "code",
   "execution_count": 1,
   "metadata": {
    "collapsed": true
   },
   "outputs": [],
   "source": [
    "import numpy as np\n",
    "import pandas as pd"
   ]
  },
  {
   "cell_type": "code",
   "execution_count": 2,
   "outputs": [
    {
     "name": "stdout",
     "output_type": "stream",
     "text": [
      "Downloading movielens-20m-dataset.zip to data\r\n",
      " 99%|███████████████████████████████████████▋| 194M/195M [00:03<00:00, 71.8MB/s]\r\n",
      "100%|████████████████████████████████████████| 195M/195M [00:03<00:00, 65.0MB/s]\r\n"
     ]
    }
   ],
   "source": [
    "!mkdir -p data\n",
    "!kaggle datasets download -d grouplens/movielens-20m-dataset -p data/ --unzip"
   ],
   "metadata": {
    "collapsed": false
   }
  },
  {
   "cell_type": "code",
   "execution_count": 31,
   "outputs": [
    {
     "data": {
      "text/plain": "(20000263, 4)"
     },
     "execution_count": 31,
     "metadata": {},
     "output_type": "execute_result"
    }
   ],
   "source": [
    "ratings = pd.read_csv('./data/rating.csv')\n",
    "ratings.shape"
   ],
   "metadata": {
    "collapsed": false
   }
  },
  {
   "cell_type": "code",
   "execution_count": 32,
   "outputs": [
    {
     "data": {
      "text/plain": "   userId  movieId  rating            timestamp\n0       1        2     3.5  2005-04-02 23:53:47\n1       1       29     3.5  2005-04-02 23:31:16\n2       1       32     3.5  2005-04-02 23:33:39\n3       1       47     3.5  2005-04-02 23:32:07\n4       1       50     3.5  2005-04-02 23:29:40",
      "text/html": "<div>\n<style scoped>\n    .dataframe tbody tr th:only-of-type {\n        vertical-align: middle;\n    }\n\n    .dataframe tbody tr th {\n        vertical-align: top;\n    }\n\n    .dataframe thead th {\n        text-align: right;\n    }\n</style>\n<table border=\"1\" class=\"dataframe\">\n  <thead>\n    <tr style=\"text-align: right;\">\n      <th></th>\n      <th>userId</th>\n      <th>movieId</th>\n      <th>rating</th>\n      <th>timestamp</th>\n    </tr>\n  </thead>\n  <tbody>\n    <tr>\n      <th>0</th>\n      <td>1</td>\n      <td>2</td>\n      <td>3.5</td>\n      <td>2005-04-02 23:53:47</td>\n    </tr>\n    <tr>\n      <th>1</th>\n      <td>1</td>\n      <td>29</td>\n      <td>3.5</td>\n      <td>2005-04-02 23:31:16</td>\n    </tr>\n    <tr>\n      <th>2</th>\n      <td>1</td>\n      <td>32</td>\n      <td>3.5</td>\n      <td>2005-04-02 23:33:39</td>\n    </tr>\n    <tr>\n      <th>3</th>\n      <td>1</td>\n      <td>47</td>\n      <td>3.5</td>\n      <td>2005-04-02 23:32:07</td>\n    </tr>\n    <tr>\n      <th>4</th>\n      <td>1</td>\n      <td>50</td>\n      <td>3.5</td>\n      <td>2005-04-02 23:29:40</td>\n    </tr>\n  </tbody>\n</table>\n</div>"
     },
     "execution_count": 32,
     "metadata": {},
     "output_type": "execute_result"
    }
   ],
   "source": [
    "ratings.head()"
   ],
   "metadata": {
    "collapsed": false
   }
  },
  {
   "cell_type": "code",
   "execution_count": 33,
   "outputs": [
    {
     "data": {
      "text/plain": "138493"
     },
     "execution_count": 33,
     "metadata": {},
     "output_type": "execute_result"
    }
   ],
   "source": [
    "ratings.userId.nunique()"
   ],
   "metadata": {
    "collapsed": false
   }
  },
  {
   "cell_type": "code",
   "execution_count": 34,
   "outputs": [
    {
     "data": {
      "text/plain": "(1, 138493)"
     },
     "execution_count": 34,
     "metadata": {},
     "output_type": "execute_result"
    }
   ],
   "source": [
    "min(ratings.userId), max(ratings.userId)"
   ],
   "metadata": {
    "collapsed": false
   }
  },
  {
   "cell_type": "code",
   "execution_count": 35,
   "outputs": [],
   "source": [
    "ratings.userId = ratings.userId - 1"
   ],
   "metadata": {
    "collapsed": false
   }
  },
  {
   "cell_type": "code",
   "execution_count": 36,
   "outputs": [
    {
     "data": {
      "text/plain": "(0, 138492, 138493)"
     },
     "execution_count": 36,
     "metadata": {},
     "output_type": "execute_result"
    }
   ],
   "source": [
    "min(ratings.userId), max(ratings.userId), ratings.userId.nunique()"
   ],
   "metadata": {
    "collapsed": false
   }
  },
  {
   "cell_type": "code",
   "execution_count": 37,
   "outputs": [
    {
     "name": "stdout",
     "output_type": "stream",
     "text": [
      "The unique number of movies is 26744\n",
      "The minimum of movie is is 1 and the maximum of movie id is 131262\n"
     ]
    }
   ],
   "source": [
    "print(f'The unique number of movies is {ratings.movieId.nunique()}\\nThe minimum of movie is is {min(ratings.movieId)} and the maximum of movie id is {max(ratings.movieId)}')"
   ],
   "metadata": {
    "collapsed": false
   }
  },
  {
   "cell_type": "code",
   "execution_count": 38,
   "outputs": [
    {
     "data": {
      "text/plain": "{2: 0,\n 29: 1,\n 32: 2,\n 47: 3,\n 50: 4,\n 112: 5,\n 151: 6,\n 223: 7,\n 253: 8,\n 260: 9,\n 293: 10,\n 296: 11,\n 318: 12,\n 337: 13,\n 367: 14,\n 541: 15,\n 589: 16,\n 593: 17,\n 653: 18,\n 919: 19,\n 924: 20,\n 1009: 21,\n 1036: 22,\n 1079: 23,\n 1080: 24,\n 1089: 25,\n 1090: 26,\n 1097: 27,\n 1136: 28,\n 1193: 29,\n 1196: 30,\n 1198: 31,\n 1200: 32,\n 1201: 33,\n 1208: 34,\n 1214: 35,\n 1215: 36,\n 1217: 37,\n 1219: 38,\n 1222: 39,\n 1240: 40,\n 1243: 41,\n 1246: 42,\n 1249: 43,\n 1258: 44,\n 1259: 45,\n 1261: 46,\n 1262: 47,\n 1266: 48,\n 1278: 49,\n 1291: 50,\n 1304: 51,\n 1321: 52,\n 1333: 53,\n 1348: 54,\n 1350: 55,\n 1358: 56,\n 1370: 57,\n 1374: 58,\n 1387: 59,\n 1525: 60,\n 1584: 61,\n 1750: 62,\n 1848: 63,\n 1920: 64,\n 1967: 65,\n 1994: 66,\n 1997: 67,\n 2021: 68,\n 2100: 69,\n 2118: 70,\n 2138: 71,\n 2140: 72,\n 2143: 73,\n 2173: 74,\n 2174: 75,\n 2193: 76,\n 2194: 77,\n 2253: 78,\n 2288: 79,\n 2291: 80,\n 2542: 81,\n 2628: 82,\n 2644: 83,\n 2648: 84,\n 2664: 85,\n 2683: 86,\n 2692: 87,\n 2716: 88,\n 2761: 89,\n 2762: 90,\n 2804: 91,\n 2872: 92,\n 2918: 93,\n 2944: 94,\n 2947: 95,\n 2959: 96,\n 2968: 97,\n 3000: 98,\n 3030: 99,\n 3037: 100,\n 3081: 101,\n 3153: 102,\n 3265: 103,\n 3438: 104,\n 3476: 105,\n 3479: 106,\n 3489: 107,\n 3499: 108,\n 3889: 109,\n 3932: 110,\n 3996: 111,\n 3997: 112,\n 4011: 113,\n 4027: 114,\n 4105: 115,\n 4128: 116,\n 4133: 117,\n 4226: 118,\n 4306: 119,\n 4446: 120,\n 4467: 121,\n 4571: 122,\n 4720: 123,\n 4754: 124,\n 4878: 125,\n 4896: 126,\n 4911: 127,\n 4915: 128,\n 4941: 129,\n 4980: 130,\n 4993: 131,\n 5026: 132,\n 5039: 133,\n 5040: 134,\n 5146: 135,\n 5171: 136,\n 5540: 137,\n 5679: 138,\n 5797: 139,\n 5816: 140,\n 5898: 141,\n 5952: 142,\n 5999: 143,\n 6093: 144,\n 6242: 145,\n 6333: 146,\n 6502: 147,\n 6539: 148,\n 6754: 149,\n 6755: 150,\n 6774: 151,\n 6807: 152,\n 6834: 153,\n 6888: 154,\n 7001: 155,\n 7045: 156,\n 7046: 157,\n 7153: 158,\n 7164: 159,\n 7247: 160,\n 7387: 161,\n 7389: 162,\n 7438: 163,\n 7449: 164,\n 7454: 165,\n 7482: 166,\n 7757: 167,\n 8368: 168,\n 8482: 169,\n 8507: 170,\n 8636: 171,\n 8690: 172,\n 8961: 173,\n 31696: 174,\n 3: 175,\n 62: 176,\n 70: 177,\n 110: 178,\n 242: 179,\n 266: 180,\n 469: 181,\n 480: 182,\n 891: 183,\n 908: 184,\n 1121: 185,\n 1210: 186,\n 1270: 187,\n 1327: 188,\n 1356: 189,\n 1544: 190,\n 1580: 191,\n 1673: 192,\n 1748: 193,\n 1965: 194,\n 1969: 195,\n 1970: 196,\n 1971: 197,\n 1972: 198,\n 1973: 199,\n 1974: 200,\n 1986: 201,\n 2454: 202,\n 2455: 203,\n 2791: 204,\n 2858: 205,\n 2948: 206,\n 2951: 207,\n 3150: 208,\n 3159: 209,\n 3173: 210,\n 3450: 211,\n 3513: 212,\n 3534: 213,\n 3555: 214,\n 3565: 215,\n 3703: 216,\n 3753: 217,\n 3917: 218,\n 3918: 219,\n 3923: 220,\n 3926: 221,\n 3927: 222,\n 3928: 223,\n 3930: 224,\n 3937: 225,\n 3959: 226,\n 1: 227,\n 24: 228,\n 160: 229,\n 173: 230,\n 175: 231,\n 196: 232,\n 316: 233,\n 329: 234,\n 440: 235,\n 442: 236,\n 457: 237,\n 490: 238,\n 512: 239,\n 610: 240,\n 718: 241,\n 780: 242,\n 788: 243,\n 858: 244,\n 904: 245,\n 905: 246,\n 953: 247,\n 968: 248,\n 1037: 249,\n 1060: 250,\n 1073: 251,\n 1077: 252,\n 1084: 253,\n 1094: 254,\n 1103: 255,\n 1125: 256,\n 1127: 257,\n 1129: 258,\n 1179: 259,\n 1188: 260,\n 1197: 261,\n 1199: 262,\n 1206: 263,\n 1213: 264,\n 1220: 265,\n 1221: 266,\n 1225: 267,\n 1228: 268,\n 1230: 269,\n 1242: 270,\n 1247: 271,\n 1257: 272,\n 1272: 273,\n 1276: 274,\n 1288: 275,\n 1307: 276,\n 1330: 277,\n 1345: 278,\n 1372: 279,\n 1373: 280,\n 1375: 281,\n 1376: 282,\n 1396: 283,\n 1603: 284,\n 1653: 285,\n 1674: 286,\n 1676: 287,\n 1721: 288,\n 1762: 289,\n 1779: 290,\n 1810: 291,\n 1831: 292,\n 1876: 293,\n 1882: 294,\n 1909: 295,\n 1917: 296,\n 1921: 297,\n 2009: 298,\n 2011: 299,\n 2012: 300,\n 2018: 301,\n 2028: 302,\n 2034: 303,\n 2046: 304,\n 2053: 305,\n 2054: 306,\n 2076: 307,\n 2093: 308,\n 2105: 309,\n 2117: 310,\n 2150: 311,\n 2236: 312,\n 2311: 313,\n 2329: 314,\n 2366: 315,\n 2371: 316,\n 2391: 317,\n 2407: 318,\n 2428: 319,\n 2448: 320,\n 2505: 321,\n 2528: 322,\n 2529: 323,\n 2530: 324,\n 2531: 325,\n 2532: 326,\n 2533: 327,\n 2541: 328,\n 2551: 329,\n 2567: 330,\n 2571: 331,\n 2574: 332,\n 2613: 333,\n 2615: 334,\n 2640: 335,\n 2642: 336,\n 2643: 337,\n 2657: 338,\n 2662: 339,\n 2668: 340,\n 2676: 341,\n 2694: 342,\n 2699: 343,\n 2710: 344,\n 2722: 345,\n 2750: 346,\n 2788: 347,\n 2797: 348,\n 2808: 349,\n 2857: 350,\n 2900: 351,\n 2901: 352,\n 2916: 353,\n 2949: 354,\n 2985: 355,\n 2986: 356,\n 3033: 357,\n 3039: 358,\n 3070: 359,\n 3072: 360,\n 3098: 361,\n 3142: 362,\n 5060: 363,\n 6: 364,\n 10: 365,\n 19: 366,\n 165: 367,\n 350: 368,\n 356: 369,\n 368: 370,\n 370: 371,\n 377: 372,\n 380: 373,\n 420: 374,\n 431: 375,\n 454: 376,\n 489: 377,\n 519: 378,\n 520: 379,\n 531: 380,\n 548: 381,\n 586: 382,\n 594: 383,\n 596: 384,\n 733: 385,\n 11: 386,\n 17: 387,\n 60: 388,\n 104: 389,\n 140: 390,\n 141: 391,\n 150: 392,\n 224: 393,\n 235: 394,\n 282: 395,\n 364: 396,\n 376: 397,\n 475: 398,\n 491: 399,\n 500: 400,\n 508: 401,\n 515: 402,\n 529: 403,\n 587: 404,\n 588: 405,\n 590: 406,\n 595: 407,\n 608: 408,\n 631: 409,\n 648: 410,\n 671: 411,\n 708: 412,\n 720: 413,\n 736: 414,\n 832: 415,\n 1028: 416,\n 1035: 417,\n 1042: 418,\n 1393: 419,\n 7: 420,\n 52: 421,\n 135: 422,\n 494: 423,\n 628: 424,\n 719: 425,\n 743: 426,\n 762: 427,\n 802: 428,\n 15: 429,\n 16: 430,\n 105: 431,\n 122: 432,\n 252: 433,\n 271: 434,\n 276: 435,\n 339: 436,\n 348: 437,\n 351: 438,\n 355: 439,\n 357: 440,\n 362: 441,\n 425: 442,\n 509: 443,\n 539: 444,\n 553: 445,\n 597: 446,\n 674: 447,\n 750: 448,\n 806: 449,\n 852: 450,\n 880: 451,\n 899: 452,\n 912: 453,\n 914: 454,\n 920: 455,\n 922: 456,\n 928: 457,\n 932: 458,\n 952: 459,\n 1017: 460,\n 1020: 461,\n 1095: 462,\n 1101: 463,\n 1183: 464,\n 1253: 465,\n 1256: 466,\n 1265: 467,\n 1271: 468,\n 1301: 469,\n 1343: 470,\n 1357: 471,\n 1385: 472,\n 1391: 473,\n 1408: 474,\n 1409: 475,\n 1441: 476,\n 1449: 477,\n 1466: 478,\n 1513: 479,\n 1517: 480,\n 1573: 481,\n 1597: 482,\n 1617: 483,\n 1682: 484,\n 1777: 485,\n 1888: 486,\n 1894: 487,\n 1911: 488,\n 1932: 489,\n 1964: 490,\n 2013: 491,\n 2067: 492,\n 2080: 493,\n 2081: 494,\n 2108: 495,\n 2112: 496,\n 2125: 497,\n 2146: 498,\n 2195: 499,\n 2243: 500,\n 2266: 501,\n 2297: 502,\n 2316: 503,\n 2333: 504,\n 2346: 505,\n 2363: 506,\n 2367: 507,\n 2384: 508,\n 2385: 509,\n 2390: 510,\n 2396: 511,\n 2403: 512,\n 2405: 513,\n 2424: 514,\n 2427: 515,\n 2463: 516,\n 2468: 517,\n 2469: 518,\n 2478: 519,\n 2498: 520,\n 2535: 521,\n 2546: 522,\n 2558: 523,\n 2598: 524,\n 2633: 525,\n 2641: 526,\n 2654: 527,\n 2671: 528,\n 2701: 529,\n 2723: 530,\n 2734: 531,\n 2752: 532,\n 2770: 533,\n 2861: 534,\n 2881: 535,\n 2908: 536,\n 2942: 537,\n 2950: 538,\n 2987: 539,\n 2993: 540,\n 3004: 541,\n 3032: 542,\n 3062: 543,\n 3074: 544,\n 3086: 545,\n 3103: 546,\n 3108: 547,\n 3118: 548,\n 3156: 549,\n 3175: 550,\n 3176: 551,\n 3179: 552,\n 3185: 553,\n 3194: 554,\n 3199: 555,\n 3219: 556,\n 3235: 557,\n 3244: 558,\n 3334: 559,\n 3341: 560,\n 3354: 561,\n 3363: 562,\n 3408: 563,\n 3417: 564,\n 3448: 565,\n 3469: 566,\n 3501: 567,\n 3510: 568,\n 3512: 569,\n 3524: 570,\n 3526: 571,\n 3527: 572,\n 3528: 573,\n 3578: 574,\n 3593: 575,\n 3671: 576,\n 3684: 577,\n 3699: 578,\n 3701: 579,\n 3717: 580,\n 3754: 581,\n 3793: 582,\n 3798: 583,\n 3824: 584,\n 3826: 585,\n 3827: 586,\n 3844: 587,\n 3864: 588,\n 3911: 589,\n 3977: 590,\n 3978: 591,\n 3987: 592,\n 3988: 593,\n 3994: 594,\n 4018: 595,\n 4019: 596,\n 4023: 597,\n 4041: 598,\n 4062: 599,\n 4155: 600,\n 4186: 601,\n 4270: 602,\n 4308: 603,\n 4310: 604,\n 4317: 605,\n 4339: 606,\n 4349: 607,\n 4361: 608,\n 4368: 609,\n 4370: 610,\n 4464: 611,\n 4503: 612,\n 4545: 613,\n 4603: 614,\n 4626: 615,\n 4638: 616,\n 4639: 617,\n 4643: 618,\n 4661: 619,\n 4700: 620,\n 4736: 621,\n 4799: 622,\n 4848: 623,\n 4867: 624,\n 4874: 625,\n 4963: 626,\n 4994: 627,\n 4995: 628,\n 5009: 629,\n 21: 630,\n 39: 631,\n 48: 632,\n 153: 633,\n 161: 634,\n 168: 635,\n 172: 636,\n 185: 637,\n 207: 638,\n 208: 639,\n 231: 640,\n 236: 641,\n 277: 642,\n 288: 643,\n 292: 644,\n 338: 645,\n 344: 646,\n 349: 647,\n 353: 648,\n 372: 649,\n 381: 650,\n 434: 651,\n 527: 652,\n 550: 653,\n 551: 654,\n 552: 655,\n 592: 656,\n 1923: 657,\n 2279: 658,\n 2605: 659,\n 2688: 660,\n 2706: 661,\n 2719: 662,\n 2840: 663,\n 2841: 664,\n 3016: 665,\n 3785: 666,\n 3857: 667,\n 3908: 668,\n 3979: 669,\n 3999: 670,\n 4022: 671,\n 4030: 672,\n 4034: 673,\n 4148: 674,\n 4369: 675,\n 4483: 676,\n 4502: 677,\n 4509: 678,\n 4519: 679,\n 4533: 680,\n 25: 681,\n 969: 682,\n 1204: 683,\n 1250: 684,\n 1960: 685,\n 2058: 686,\n 3107: 687,\n 65: 688,\n 145: 689,\n 158: 690,\n 170: 691,\n 256: 692,\n 286: 693,\n 384: 694,\n 405: 695,\n 410: 696,\n 441: 697,\n 546: 698,\n 611: 699,\n 616: 700,\n 673: 701,\n 741: 702,\n 761: 703,\n 784: 704,\n 828: 705,\n 1029: 706,\n 1032: 707,\n 1046: 708,\n 1064: 709,\n 1093: 710,\n 1168: 711,\n 1169: 712,\n 1255: 713,\n 1274: 714,\n 1320: 715,\n 1339: 716,\n 1367: 717,\n 1432: 718,\n 1527: 719,\n 1591: 720,\n 1688: 721,\n 1690: 722,\n 1862: 723,\n 1961: 724,\n 1977: 725,\n 1982: 726,\n 2004: 727,\n 2023: 728,\n 2042: 729,\n 2107: 730,\n 2123: 731,\n 2124: 732,\n 2134: 733,\n 2153: 734,\n 2232: 735,\n 2240: 736,\n 2294: 737,\n 2313: 738,\n 2355: 739,\n 2378: 740,\n 2420: 741,\n 2572: 742,\n 2600: 743,\n 2717: 744,\n 2720: 745,\n 2793: 746,\n 2810: 747,\n 2827: 748,\n 2990: 749,\n 3054: 750,\n 3083: 751,\n 3113: 752,\n 3114: 753,\n 3213: 754,\n 3247: 755,\n 3269: 756,\n 3300: 757,\n 3396: 758,\n 3525: 759,\n 3535: 760,\n 3697: 761,\n 3702: 762,\n 3704: 763,\n 3745: 764,\n 3752: 765,\n 3863: 766,\n 3892: 767,\n 3897: 768,\n 3969: 769,\n 3980: 770,\n 3991: 771,\n 4006: 772,\n 4015: 773,\n 4052: 774,\n 4054: 775,\n 4232: 776,\n 4235: 777,\n 4246: 778,\n 4262: 779,\n 4299: 780,\n 4340: 781,\n 4343: 782,\n 4366: 783,\n 4388: 784,\n 4492: 785,\n 4718: 786,\n 4792: 787,\n 4850: 788,\n 4868: 789,\n 4887: 790,\n 4973: 791,\n 4974: 792,\n 5046: 793,\n 5151: 794,\n 5152: 795,\n 5219: 796,\n 5220: 797,\n 5225: 798,\n 5266: 799,\n 5283: 800,\n 5299: 801,\n 5323: 802,\n 5349: 803,\n 5377: 804,\n 5378: 805,\n 5400: 806,\n 5444: 807,\n 5445: 808,\n 5459: 809,\n 5463: 810,\n 5502: 811,\n 5618: 812,\n 5669: 813,\n 5782: 814,\n 5882: 815,\n 5903: 816,\n 5971: 817,\n 6016: 818,\n 6094: 819,\n 6250: 820,\n 6264: 821,\n 6281: 822,\n 6283: 823,\n 6287: 824,\n 6291: 825,\n 6294: 826,\n 6365: 827,\n 6377: 828,\n 6378: 829,\n 6383: 830,\n 6503: 831,\n 6534: 832,\n 6537: 833,\n 6541: 834,\n 6548: 835,\n 6586: 836,\n 6624: 837,\n 6659: 838,\n 6711: 839,\n 6731: 840,\n 6795: 841,\n 6863: 842,\n 6874: 843,\n 6934: 844,\n 6953: 845,\n 6979: 846,\n 6996: 847,\n 7022: 848,\n 7099: 849,\n 7163: 850,\n 7173: 851,\n 7254: 852,\n 7293: 853,\n 7345: 854,\n 7361: 855,\n 7439: 856,\n 7444: 857,\n 7458: 858,\n 7481: 859,\n 7541: 860,\n 7845: 861,\n 7846: 862,\n 8169: 863,\n 8361: 864,\n 8371: 865,\n 8578: 866,\n 8622: 867,\n 8640: 868,\n 8641: 869,\n 8644: 870,\n 8800: 871,\n 8810: 872,\n 8861: 873,\n 8865: 874,\n 8870: 875,\n 8907: 876,\n 8965: 877,\n 8972: 878,\n 8973: 879,\n 8977: 880,\n 26462: 881,\n 26509: 882,\n 26887: 883,\n 26913: 884,\n 27311: 885,\n 27338: 886,\n 27368: 887,\n 27441: 888,\n 27608: 889,\n 27660: 890,\n 27728: 891,\n 27793: 892,\n 27865: 893,\n 27904: 894,\n 30707: 895,\n 30793: 896,\n 30812: 897,\n 31184: 898,\n 31429: 899,\n 31553: 900,\n 31555: 901,\n 31658: 902,\n 31660: 903,\n 31878: 904,\n 32031: 905,\n 32213: 906,\n 33085: 907,\n 33166: 908,\n 33493: 909,\n 33585: 910,\n 33660: 911,\n 33679: 912,\n 33794: 913,\n 34048: 914,\n 34150: 915,\n 34319: 916,\n 34334: 917,\n 34338: 918,\n 34542: 919,\n 35836: 920,\n 36401: 921,\n 36509: 922,\n 36931: 923,\n 37380: 924,\n 37386: 925,\n 37830: 926,\n 39446: 927,\n 40339: 928,\n 41566: 929,\n 41569: 930,\n 41571: 931,\n 42718: 932,\n 43419: 933,\n 43556: 934,\n 43928: 935,\n 43932: 936,\n 43936: 937,\n 44189: 938,\n 44191: 939,\n 44225: 940,\n 44731: 941,\n 44828: 942,\n 44849: 943,\n 45361: 944,\n 45499: 945,\n 45722: 946,\n 46530: 947,\n 46578: 948,\n 47124: 949,\n 48304: 950,\n 48394: 951,\n 48516: 952,\n 48738: 953,\n 48774: 954,\n 48943: 955,\n 49205: 956,\n 49278: 957,\n 50162: 958,\n 50442: 959,\n 50872: 960,\n 51412: 961,\n 51662: 962,\n 51666: 963,\n 51698: 964,\n 52281: 965,\n 52287: 966,\n 52328: 967,\n 52722: 968,\n 52885: 969,\n 53000: 970,\n 53125: 971,\n 53464: 972,\n 53953: 973,\n 53996: 974,\n 54001: 975,\n 54278: 976,\n 54771: 977,\n 54995: 978,\n 55190: 979,\n 55232: 980,\n 55282: 981,\n 55603: 982,\n 55999: 983,\n 56003: 984,\n 56145: 985,\n 56174: 986,\n 56251: 987,\n 56757: 988,\n 56801: 989,\n 56949: 990,\n 57223: 991,\n 57368: 992,\n 57509: 993,\n 57640: 994,\n 57949: 995,\n 58025: 996,\n 58293: 997,\n 58559: 998,\n 58652: 999,\n ...}"
     },
     "execution_count": 38,
     "metadata": {},
     "output_type": "execute_result"
    }
   ],
   "source": [
    "movie2Idx = {movieId:idx for idx, movieId in enumerate(ratings.movieId.unique())}\n",
    "movie2Idx"
   ],
   "metadata": {
    "collapsed": false
   }
  },
  {
   "cell_type": "code",
   "execution_count": 39,
   "outputs": [],
   "source": [
    "ratings['movie_idx'] = ratings.apply(lambda row: movie2Idx[row.movieId], axis=1)"
   ],
   "metadata": {
    "collapsed": false
   }
  },
  {
   "cell_type": "code",
   "execution_count": 40,
   "outputs": [
    {
     "data": {
      "text/plain": "   userId  movieId  rating            timestamp  movie_idx\n0       0        2     3.5  2005-04-02 23:53:47          0\n1       0       29     3.5  2005-04-02 23:31:16          1\n2       0       32     3.5  2005-04-02 23:33:39          2\n3       0       47     3.5  2005-04-02 23:32:07          3\n4       0       50     3.5  2005-04-02 23:29:40          4",
      "text/html": "<div>\n<style scoped>\n    .dataframe tbody tr th:only-of-type {\n        vertical-align: middle;\n    }\n\n    .dataframe tbody tr th {\n        vertical-align: top;\n    }\n\n    .dataframe thead th {\n        text-align: right;\n    }\n</style>\n<table border=\"1\" class=\"dataframe\">\n  <thead>\n    <tr style=\"text-align: right;\">\n      <th></th>\n      <th>userId</th>\n      <th>movieId</th>\n      <th>rating</th>\n      <th>timestamp</th>\n      <th>movie_idx</th>\n    </tr>\n  </thead>\n  <tbody>\n    <tr>\n      <th>0</th>\n      <td>0</td>\n      <td>2</td>\n      <td>3.5</td>\n      <td>2005-04-02 23:53:47</td>\n      <td>0</td>\n    </tr>\n    <tr>\n      <th>1</th>\n      <td>0</td>\n      <td>29</td>\n      <td>3.5</td>\n      <td>2005-04-02 23:31:16</td>\n      <td>1</td>\n    </tr>\n    <tr>\n      <th>2</th>\n      <td>0</td>\n      <td>32</td>\n      <td>3.5</td>\n      <td>2005-04-02 23:33:39</td>\n      <td>2</td>\n    </tr>\n    <tr>\n      <th>3</th>\n      <td>0</td>\n      <td>47</td>\n      <td>3.5</td>\n      <td>2005-04-02 23:32:07</td>\n      <td>3</td>\n    </tr>\n    <tr>\n      <th>4</th>\n      <td>0</td>\n      <td>50</td>\n      <td>3.5</td>\n      <td>2005-04-02 23:29:40</td>\n      <td>4</td>\n    </tr>\n  </tbody>\n</table>\n</div>"
     },
     "execution_count": 40,
     "metadata": {},
     "output_type": "execute_result"
    }
   ],
   "source": [
    "ratings.head()"
   ],
   "metadata": {
    "collapsed": false
   }
  },
  {
   "cell_type": "code",
   "execution_count": 41,
   "outputs": [
    {
     "name": "stdout",
     "output_type": "stream",
     "text": [
      "The unique number of movies is 26744\n",
      "The minimum of movie is is 0 and the maximum of movie id is 26743\n"
     ]
    }
   ],
   "source": [
    "print(f'The unique number of movies is {ratings.movie_idx.nunique()}\\nThe minimum of movie is is {min(ratings.movie_idx)} and the maximum of movie id is {max(ratings.movie_idx)}')"
   ],
   "metadata": {
    "collapsed": false
   }
  },
  {
   "cell_type": "code",
   "execution_count": 42,
   "outputs": [],
   "source": [
    "ratings = ratings.drop(columns=['timestamp'])"
   ],
   "metadata": {
    "collapsed": false
   }
  },
  {
   "cell_type": "code",
   "execution_count": 43,
   "outputs": [
    {
     "data": {
      "text/plain": "   userId  movieId  rating  movie_idx\n0       0        2     3.5          0\n1       0       29     3.5          1\n2       0       32     3.5          2\n3       0       47     3.5          3\n4       0       50     3.5          4",
      "text/html": "<div>\n<style scoped>\n    .dataframe tbody tr th:only-of-type {\n        vertical-align: middle;\n    }\n\n    .dataframe tbody tr th {\n        vertical-align: top;\n    }\n\n    .dataframe thead th {\n        text-align: right;\n    }\n</style>\n<table border=\"1\" class=\"dataframe\">\n  <thead>\n    <tr style=\"text-align: right;\">\n      <th></th>\n      <th>userId</th>\n      <th>movieId</th>\n      <th>rating</th>\n      <th>movie_idx</th>\n    </tr>\n  </thead>\n  <tbody>\n    <tr>\n      <th>0</th>\n      <td>0</td>\n      <td>2</td>\n      <td>3.5</td>\n      <td>0</td>\n    </tr>\n    <tr>\n      <th>1</th>\n      <td>0</td>\n      <td>29</td>\n      <td>3.5</td>\n      <td>1</td>\n    </tr>\n    <tr>\n      <th>2</th>\n      <td>0</td>\n      <td>32</td>\n      <td>3.5</td>\n      <td>2</td>\n    </tr>\n    <tr>\n      <th>3</th>\n      <td>0</td>\n      <td>47</td>\n      <td>3.5</td>\n      <td>3</td>\n    </tr>\n    <tr>\n      <th>4</th>\n      <td>0</td>\n      <td>50</td>\n      <td>3.5</td>\n      <td>4</td>\n    </tr>\n  </tbody>\n</table>\n</div>"
     },
     "execution_count": 43,
     "metadata": {},
     "output_type": "execute_result"
    }
   ],
   "source": [
    "ratings.head()"
   ],
   "metadata": {
    "collapsed": false
   }
  },
  {
   "cell_type": "code",
   "execution_count": 44,
   "outputs": [],
   "source": [
    "ratings.to_csv('./data/edited_ratings.csv')"
   ],
   "metadata": {
    "collapsed": false
   }
  },
  {
   "cell_type": "markdown",
   "source": [
    "### Shrinking the data"
   ],
   "metadata": {
    "collapsed": false
   }
  },
  {
   "cell_type": "markdown",
   "source": [
    "* Select subset of users and movies\n",
    "* Users who rated the most movies\n",
    "* Movies that have been rated by the most users"
   ],
   "metadata": {
    "collapsed": false
   }
  },
  {
   "cell_type": "code",
   "execution_count": 45,
   "outputs": [],
   "source": [
    "N = ratings.userId.max() + 1 # Number of Users\n",
    "M = ratings.movie_idx.max() + 1 # Number of movies"
   ],
   "metadata": {
    "collapsed": false
   }
  },
  {
   "cell_type": "code",
   "execution_count": 46,
   "outputs": [
    {
     "data": {
      "text/plain": "(138493, 26744)"
     },
     "execution_count": 46,
     "metadata": {},
     "output_type": "execute_result"
    }
   ],
   "source": [
    "N, M"
   ],
   "metadata": {
    "collapsed": false
   }
  },
  {
   "cell_type": "code",
   "execution_count": 47,
   "outputs": [],
   "source": [
    "from collections import Counter\n",
    "user_ids_count = Counter(ratings.userId)\n",
    "movie_ids_count = Counter(ratings.movie_idx)"
   ],
   "metadata": {
    "collapsed": false
   }
  },
  {
   "cell_type": "code",
   "execution_count": 48,
   "outputs": [],
   "source": [
    "n = 10000\n",
    "m = 2000"
   ],
   "metadata": {
    "collapsed": false
   }
  },
  {
   "cell_type": "code",
   "execution_count": 56,
   "outputs": [],
   "source": [
    "user_ids = [u for u, c in user_ids_count.most_common(n)]\n",
    "movie_ids = [m for m, c in movie_ids_count.most_common(m)]"
   ],
   "metadata": {
    "collapsed": false
   }
  },
  {
   "cell_type": "code",
   "execution_count": 57,
   "outputs": [],
   "source": [
    "ratings_small = ratings[ratings.userId.isin(user_ids) & ratings.movie_idx.isin(movie_ids)].copy()"
   ],
   "metadata": {
    "collapsed": false
   }
  },
  {
   "cell_type": "code",
   "execution_count": 58,
   "outputs": [
    {
     "data": {
      "text/plain": "(5392025, 4)"
     },
     "execution_count": 58,
     "metadata": {},
     "output_type": "execute_result"
    }
   ],
   "source": [
    "ratings_small.shape"
   ],
   "metadata": {
    "collapsed": false
   }
  },
  {
   "cell_type": "code",
   "execution_count": 59,
   "outputs": [],
   "source": [
    "new_user_id_map = {user_id:idx for idx, user_id in enumerate(ratings_small.userId.unique())}\n",
    "new_movie_id_map = {movie_id:idx for idx, movie_id in enumerate(ratings_small.movie_idx.unique())}"
   ],
   "metadata": {
    "collapsed": false
   }
  },
  {
   "cell_type": "code",
   "execution_count": 60,
   "outputs": [],
   "source": [
    "ratings_small.loc[:, 'userId'] = ratings_small.apply(lambda row: new_user_id_map[row.userId], axis=1)\n",
    "ratings_small.loc[:, 'movie_idx'] = ratings_small.apply(lambda row: new_movie_id_map[row.movie_idx], axis=1)"
   ],
   "metadata": {
    "collapsed": false
   }
  },
  {
   "cell_type": "code",
   "execution_count": 61,
   "outputs": [
    {
     "name": "stdout",
     "output_type": "stream",
     "text": [
      "min user_id is 0 max user_id 9999 unique userid are 10000\n",
      "min movie_id is 0 max movie_id 1999 unique movie_ids are 2000\n"
     ]
    }
   ],
   "source": [
    "print(f'min user_id is {ratings_small.userId.min()} max user_id {ratings_small.userId.max()} unique userid are {ratings_small.userId.nunique()}')\n",
    "print(f'min movie_id is {ratings_small.movie_idx.min()} max movie_id {ratings_small.movie_idx.max()} unique movie_ids are {ratings_small.movie_idx.nunique()}')"
   ],
   "metadata": {
    "collapsed": false
   }
  },
  {
   "cell_type": "code",
   "execution_count": 62,
   "outputs": [
    {
     "data": {
      "text/plain": "(5392025, 4)"
     },
     "execution_count": 62,
     "metadata": {},
     "output_type": "execute_result"
    }
   ],
   "source": [
    "ratings_small.shape"
   ],
   "metadata": {
    "collapsed": false
   }
  },
  {
   "cell_type": "markdown",
   "source": [
    "### Table to Dictionary"
   ],
   "metadata": {
    "collapsed": false
   }
  },
  {
   "cell_type": "markdown",
   "source": [
    "* In code, I want to ask questions like\n",
    "    * Given user i, which movies did they rate?\n",
    "    * Given movie j, which users i have rated it ?\n",
    "    * Given user i and movie j, what is the rating?\n",
    "    * Given user i and movie j, what is the rating?\n",
    "* Theoretically, pandas dataframe is like an SQL table, so we should be able to write queries to grab this info?\n",
    "* I know SQL has indexes to make these lookups somewhat fast, but can pandas ?\n",
    "* Python Dictionaries are already a key -> value lookup\n",
    "* user2movie : user ID -> movie ID\n",
    "* movie2user : movie ID -> user ID\n",
    "* usermovie2rating : (user ID, movie ID) -> rating"
   ],
   "metadata": {
    "collapsed": false
   }
  },
  {
   "cell_type": "markdown",
   "source": [
    "why Dictionaries?\n",
    "* Looping through the array would be $\\Omicron(NM)$\n",
    "* Looping through the dictionary is $\\Omicron(|\\Omega|)$\n",
    "$\\Omega$ is the length of the set of ratings"
   ],
   "metadata": {
    "collapsed": false
   }
  },
  {
   "cell_type": "code",
   "execution_count": 63,
   "outputs": [],
   "source": [
    "N = ratings_small.userId.max()\n",
    "M = ratings_small.movie_idx.max()"
   ],
   "metadata": {
    "collapsed": false
   }
  },
  {
   "cell_type": "code",
   "execution_count": 64,
   "outputs": [
    {
     "data": {
      "text/plain": "(9999, 1999)"
     },
     "execution_count": 64,
     "metadata": {},
     "output_type": "execute_result"
    }
   ],
   "source": [
    "N, M"
   ],
   "metadata": {
    "collapsed": false
   }
  },
  {
   "cell_type": "markdown",
   "source": [
    "##### Train Test Split"
   ],
   "metadata": {
    "collapsed": false
   }
  },
  {
   "cell_type": "code",
   "execution_count": 66,
   "outputs": [],
   "source": [
    "from sklearn.utils import shuffle"
   ],
   "metadata": {
    "collapsed": false
   }
  },
  {
   "cell_type": "code",
   "execution_count": 67,
   "outputs": [],
   "source": [
    "ratings_small = shuffle(ratings_small)"
   ],
   "metadata": {
    "collapsed": false
   }
  },
  {
   "cell_type": "code",
   "execution_count": 68,
   "outputs": [
    {
     "data": {
      "text/plain": "          userId  movieId  rating  movie_idx\n14777855    7407     3052     4.5        559\n2148134     1108     3178     3.5        956\n2105276     1088     2728     5.0        912\n19355755    9685     2973     4.0       1134\n12838400    6422     1097     4.0         75",
      "text/html": "<div>\n<style scoped>\n    .dataframe tbody tr th:only-of-type {\n        vertical-align: middle;\n    }\n\n    .dataframe tbody tr th {\n        vertical-align: top;\n    }\n\n    .dataframe thead th {\n        text-align: right;\n    }\n</style>\n<table border=\"1\" class=\"dataframe\">\n  <thead>\n    <tr style=\"text-align: right;\">\n      <th></th>\n      <th>userId</th>\n      <th>movieId</th>\n      <th>rating</th>\n      <th>movie_idx</th>\n    </tr>\n  </thead>\n  <tbody>\n    <tr>\n      <th>14777855</th>\n      <td>7407</td>\n      <td>3052</td>\n      <td>4.5</td>\n      <td>559</td>\n    </tr>\n    <tr>\n      <th>2148134</th>\n      <td>1108</td>\n      <td>3178</td>\n      <td>3.5</td>\n      <td>956</td>\n    </tr>\n    <tr>\n      <th>2105276</th>\n      <td>1088</td>\n      <td>2728</td>\n      <td>5.0</td>\n      <td>912</td>\n    </tr>\n    <tr>\n      <th>19355755</th>\n      <td>9685</td>\n      <td>2973</td>\n      <td>4.0</td>\n      <td>1134</td>\n    </tr>\n    <tr>\n      <th>12838400</th>\n      <td>6422</td>\n      <td>1097</td>\n      <td>4.0</td>\n      <td>75</td>\n    </tr>\n  </tbody>\n</table>\n</div>"
     },
     "execution_count": 68,
     "metadata": {},
     "output_type": "execute_result"
    }
   ],
   "source": [
    "ratings_small.head()"
   ],
   "metadata": {
    "collapsed": false
   }
  },
  {
   "cell_type": "markdown",
   "source": [
    "Train set size = 80%\n",
    "\n",
    "Test set size = 20%"
   ],
   "metadata": {
    "collapsed": false
   }
  },
  {
   "cell_type": "code",
   "execution_count": 77,
   "outputs": [
    {
     "name": "stdout",
     "output_type": "stream",
     "text": [
      "The test set size would be 1078405\n"
     ]
    }
   ],
   "source": [
    "test_split = 0.2\n",
    "test_set_size = int(test_split * len(ratings_small))\n",
    "print(f'The test set size would be {test_set_size}')"
   ],
   "metadata": {
    "collapsed": false
   }
  },
  {
   "cell_type": "code",
   "execution_count": 103,
   "outputs": [
    {
     "data": {
      "text/plain": "(4313620, 4)"
     },
     "execution_count": 103,
     "metadata": {},
     "output_type": "execute_result"
    }
   ],
   "source": [
    "train_data = ratings_small.iloc[:-test_set_size]\n",
    "train_data.shape"
   ],
   "metadata": {
    "collapsed": false
   }
  },
  {
   "cell_type": "code",
   "execution_count": 104,
   "outputs": [
    {
     "data": {
      "text/plain": "(1078405, 4)"
     },
     "execution_count": 104,
     "metadata": {},
     "output_type": "execute_result"
    }
   ],
   "source": [
    "test_data = ratings_small.iloc[-test_set_size:]\n",
    "test_data.shape"
   ],
   "metadata": {
    "collapsed": false
   }
  },
  {
   "cell_type": "markdown",
   "source": [
    "##### Dictionary Creation"
   ],
   "metadata": {
    "collapsed": false
   }
  },
  {
   "cell_type": "code",
   "execution_count": 105,
   "outputs": [],
   "source": [
    "user2movie = {}\n",
    "movie2user = {}\n",
    "usermovie2rating = {}"
   ],
   "metadata": {
    "collapsed": false
   }
  },
  {
   "cell_type": "code",
   "execution_count": 106,
   "outputs": [],
   "source": [
    "count = 0\n",
    "def updateDictionaries(row):\n",
    "    global count\n",
    "    count += 1\n",
    "    if count % 100000 == 0:\n",
    "        print(f'Processed: {(float(count)/train_data.shape[0]):.3f}')\n",
    "\n",
    "    i = int(row.userId)\n",
    "    j = int(row.movie_idx)\n",
    "\n",
    "    if i not in user2movie:\n",
    "        user2movie[i] = [j]\n",
    "    else:\n",
    "        user2movie[i].append(j)\n",
    "\n",
    "    if j not in movie2user:\n",
    "        movie2user[j] = [i]\n",
    "    else:\n",
    "        movie2user[j].append(i)\n",
    "\n",
    "    usermovie2rating[(i, j)] = row.rating"
   ],
   "metadata": {
    "collapsed": false
   }
  },
  {
   "cell_type": "code",
   "execution_count": 107,
   "outputs": [
    {
     "name": "stdout",
     "output_type": "stream",
     "text": [
      "Processed: 0.023\n",
      "Processed: 0.046\n",
      "Processed: 0.070\n",
      "Processed: 0.093\n",
      "Processed: 0.116\n",
      "Processed: 0.139\n",
      "Processed: 0.162\n",
      "Processed: 0.185\n",
      "Processed: 0.209\n",
      "Processed: 0.232\n",
      "Processed: 0.255\n",
      "Processed: 0.278\n",
      "Processed: 0.301\n",
      "Processed: 0.325\n",
      "Processed: 0.348\n",
      "Processed: 0.371\n",
      "Processed: 0.394\n",
      "Processed: 0.417\n",
      "Processed: 0.440\n",
      "Processed: 0.464\n",
      "Processed: 0.487\n",
      "Processed: 0.510\n",
      "Processed: 0.533\n",
      "Processed: 0.556\n",
      "Processed: 0.580\n",
      "Processed: 0.603\n",
      "Processed: 0.626\n",
      "Processed: 0.649\n",
      "Processed: 0.672\n",
      "Processed: 0.695\n",
      "Processed: 0.719\n",
      "Processed: 0.742\n",
      "Processed: 0.765\n",
      "Processed: 0.788\n",
      "Processed: 0.811\n",
      "Processed: 0.835\n",
      "Processed: 0.858\n",
      "Processed: 0.881\n",
      "Processed: 0.904\n",
      "Processed: 0.927\n",
      "Processed: 0.950\n",
      "Processed: 0.974\n",
      "Processed: 0.997\n"
     ]
    },
    {
     "data": {
      "text/plain": "14777855    None\n2148134     None\n2105276     None\n19355755    None\n12838400    None\n            ... \n7079332     None\n7878054     None\n18924272    None\n5240381     None\n8747797     None\nLength: 4313620, dtype: object"
     },
     "execution_count": 107,
     "metadata": {},
     "output_type": "execute_result"
    }
   ],
   "source": [
    "train_data.apply(updateDictionaries, axis=1)"
   ],
   "metadata": {
    "collapsed": false
   }
  },
  {
   "cell_type": "code",
   "execution_count": 108,
   "outputs": [],
   "source": [
    "usermovie2rating_test = {}"
   ],
   "metadata": {
    "collapsed": false
   }
  },
  {
   "cell_type": "code",
   "execution_count": 109,
   "outputs": [],
   "source": [
    "count = 0\n",
    "def update_usermovie2rating_test(row):\n",
    "    global count\n",
    "    count += 1\n",
    "    if count % 100000 == 0:\n",
    "        print(f'Processed: {(float(count)/test_data.shape[0]):.3f}')\n",
    "\n",
    "    i = int(row.userId)\n",
    "    j = int(row.movie_idx)\n",
    "\n",
    "    usermovie2rating_test[(i, j)] = row.rating"
   ],
   "metadata": {
    "collapsed": false
   }
  },
  {
   "cell_type": "code",
   "execution_count": 110,
   "outputs": [
    {
     "name": "stdout",
     "output_type": "stream",
     "text": [
      "Processed: 0.093\n",
      "Processed: 0.185\n",
      "Processed: 0.278\n",
      "Processed: 0.371\n",
      "Processed: 0.464\n",
      "Processed: 0.556\n",
      "Processed: 0.649\n",
      "Processed: 0.742\n",
      "Processed: 0.835\n",
      "Processed: 0.927\n"
     ]
    },
    {
     "data": {
      "text/plain": "31527       None\n6823081     None\n144473      None\n6672992     None\n16219646    None\n            ... \n6150908     None\n17454016    None\n9147648     None\n6433127     None\n5127603     None\nLength: 1078405, dtype: object"
     },
     "execution_count": 110,
     "metadata": {},
     "output_type": "execute_result"
    }
   ],
   "source": [
    "test_data.apply(update_usermovie2rating_test, axis=1)"
   ],
   "metadata": {
    "collapsed": false
   }
  },
  {
   "cell_type": "markdown",
   "source": [
    "### Saving Dictionaries as Binary files using Pickle"
   ],
   "metadata": {
    "collapsed": false
   }
  },
  {
   "cell_type": "code",
   "execution_count": 112,
   "outputs": [],
   "source": [
    "import pickle"
   ],
   "metadata": {
    "collapsed": false
   }
  },
  {
   "cell_type": "code",
   "execution_count": 113,
   "outputs": [],
   "source": [
    "with open('user2movie_dict', 'wb') as f:\n",
    "    pickle.dump(user2movie, f)\n",
    "\n",
    "with open('movie2user_dict', 'wb') as f:\n",
    "    pickle.dump(movie2user, f)\n",
    "\n",
    "with open('usermovie2rating_dict', 'wb') as f:\n",
    "    pickle.dump(usermovie2rating, f)\n",
    "\n",
    "with open('usermovie2rating_test_dict', 'wb') as f:\n",
    "    pickle.dump(usermovie2rating_test, f)"
   ],
   "metadata": {
    "collapsed": false
   }
  }
 ],
 "metadata": {
  "kernelspec": {
   "display_name": "Python 3",
   "language": "python",
   "name": "python3"
  },
  "language_info": {
   "codemirror_mode": {
    "name": "ipython",
    "version": 2
   },
   "file_extension": ".py",
   "mimetype": "text/x-python",
   "name": "python",
   "nbconvert_exporter": "python",
   "pygments_lexer": "ipython2",
   "version": "2.7.6"
  }
 },
 "nbformat": 4,
 "nbformat_minor": 0
}
