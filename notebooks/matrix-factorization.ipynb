{
 "cells": [
  {
   "cell_type": "code",
   "execution_count": 1,
   "outputs": [],
   "source": [
    "import numpy as np\n",
    "import pandas as pd\n",
    "import matplotlib.pyplot as plt"
   ],
   "metadata": {
    "collapsed": false
   }
  },
  {
   "cell_type": "code",
   "execution_count": 2,
   "metadata": {
    "collapsed": true
   },
   "outputs": [],
   "source": [
    "from tensorflow.keras import layers\n",
    "from tensorflow.keras.models import Model\n",
    "from tensorflow.keras.regularizers import l2\n",
    "from tensorflow.keras.optimizers import SGD, Adam\n",
    "from tensorflow.keras.metrics import MeanSquaredError, RootMeanSquaredError"
   ]
  },
  {
   "cell_type": "code",
   "execution_count": 3,
   "outputs": [],
   "source": [
    "from sklearn.utils import shuffle"
   ],
   "metadata": {
    "collapsed": false
   }
  },
  {
   "cell_type": "code",
   "execution_count": 4,
   "outputs": [],
   "source": [
    "df = pd.read_csv('data/ratings_preprocessed.csv', index_col=0)"
   ],
   "metadata": {
    "collapsed": false
   }
  },
  {
   "cell_type": "code",
   "execution_count": 5,
   "outputs": [
    {
     "data": {
      "text/plain": "   rating  userId  movieId\n0     4.0     193     1744\n1     4.5     417     1744\n2     3.5     914     1744\n3     3.0     813      572\n4     2.5     193      261",
      "text/html": "<div>\n<style scoped>\n    .dataframe tbody tr th:only-of-type {\n        vertical-align: middle;\n    }\n\n    .dataframe tbody tr th {\n        vertical-align: top;\n    }\n\n    .dataframe thead th {\n        text-align: right;\n    }\n</style>\n<table border=\"1\" class=\"dataframe\">\n  <thead>\n    <tr style=\"text-align: right;\">\n      <th></th>\n      <th>rating</th>\n      <th>userId</th>\n      <th>movieId</th>\n    </tr>\n  </thead>\n  <tbody>\n    <tr>\n      <th>0</th>\n      <td>4.0</td>\n      <td>193</td>\n      <td>1744</td>\n    </tr>\n    <tr>\n      <th>1</th>\n      <td>4.5</td>\n      <td>417</td>\n      <td>1744</td>\n    </tr>\n    <tr>\n      <th>2</th>\n      <td>3.5</td>\n      <td>914</td>\n      <td>1744</td>\n    </tr>\n    <tr>\n      <th>3</th>\n      <td>3.0</td>\n      <td>813</td>\n      <td>572</td>\n    </tr>\n    <tr>\n      <th>4</th>\n      <td>2.5</td>\n      <td>193</td>\n      <td>261</td>\n    </tr>\n  </tbody>\n</table>\n</div>"
     },
     "execution_count": 5,
     "metadata": {},
     "output_type": "execute_result"
    }
   ],
   "source": [
    "df.head()"
   ],
   "metadata": {
    "collapsed": false
   }
  },
  {
   "cell_type": "code",
   "execution_count": 6,
   "outputs": [],
   "source": [
    "df = df[(df['movieId'] < 2000) & (df['userId'] < 8000)]"
   ],
   "metadata": {
    "collapsed": false
   }
  },
  {
   "cell_type": "code",
   "execution_count": 6,
   "outputs": [
    {
     "name": "stdout",
     "output_type": "stream",
     "text": [
      "The number of ratings in the dataset is 5392234\n",
      "The number of users in the dataset is 10000\n",
      "The number of movies in the dataset is 2000\n"
     ]
    }
   ],
   "source": [
    "print(f'The number of ratings in the dataset is {df.shape[0]}')\n",
    "print(f'The number of users in the dataset is {df.userId.nunique()}')\n",
    "print(f'The number of movies in the dataset is {df.movieId.nunique()}')"
   ],
   "metadata": {
    "collapsed": false
   }
  },
  {
   "cell_type": "code",
   "execution_count": 7,
   "outputs": [],
   "source": [
    "N = df.userId.max() + 1\n",
    "M = df.movieId.max() + 1"
   ],
   "metadata": {
    "collapsed": false
   }
  },
  {
   "cell_type": "code",
   "execution_count": 8,
   "outputs": [],
   "source": [
    "df = shuffle(df)\n",
    "cutoff = int(0.8*len(df))\n",
    "df_train = df.iloc[:cutoff]\n",
    "df_test = df.iloc[cutoff:]"
   ],
   "metadata": {
    "collapsed": false
   }
  },
  {
   "cell_type": "code",
   "execution_count": 9,
   "outputs": [
    {
     "name": "stdout",
     "output_type": "stream",
     "text": [
      "The number of users in the training dataset is 4313787\n",
      "The number of users in the test dataset is 1078447\n"
     ]
    }
   ],
   "source": [
    "print(f'The number of users in the training dataset is {df_train.shape[0]}')\n",
    "print(f'The number of users in the test dataset is {df_test.shape[0]}')"
   ],
   "metadata": {
    "collapsed": false
   }
  },
  {
   "cell_type": "code",
   "execution_count": 10,
   "outputs": [],
   "source": [
    "K = 20\n",
    "mu = df_train.rating.mean()\n",
    "epochs = 25\n",
    "reg = 0. # regularization penalty"
   ],
   "metadata": {
    "collapsed": false
   }
  },
  {
   "cell_type": "markdown",
   "source": [
    "**Building Layers of the Neural Network**"
   ],
   "metadata": {
    "collapsed": false
   }
  },
  {
   "cell_type": "code",
   "execution_count": 11,
   "outputs": [
    {
     "name": "stdout",
     "output_type": "stream",
     "text": [
      "Metal device set to: Apple M1 Pro\n"
     ]
    },
    {
     "name": "stderr",
     "output_type": "stream",
     "text": [
      "2022-12-25 21:30:01.190323: I tensorflow/core/common_runtime/pluggable_device/pluggable_device_factory.cc:306] Could not identify NUMA node of platform GPU ID 0, defaulting to 0. Your kernel may not have been built with NUMA support.\n",
      "2022-12-25 21:30:01.190528: I tensorflow/core/common_runtime/pluggable_device/pluggable_device_factory.cc:272] Created TensorFlow device (/job:localhost/replica:0/task:0/device:GPU:0 with 0 MB memory) -> physical PluggableDevice (device: 0, name: METAL, pci bus id: <undefined>)\n"
     ]
    }
   ],
   "source": [
    "u = layers.Input(shape=(1, ))\n",
    "m = layers.Input(shape=(1, ))\n",
    "u_embedding = layers.Embedding(N, K, embeddings_regularizer=l2(reg))(u)\n",
    "m_embedding = layers.Embedding(M, K, embeddings_regularizer=l2(reg))(m)"
   ],
   "metadata": {
    "collapsed": false
   }
  },
  {
   "cell_type": "code",
   "execution_count": 12,
   "outputs": [],
   "source": [
    "u_bias = layers.Embedding(N, 1, embeddings_regularizer=l2(reg))(u)\n",
    "m_bias = layers.Embedding(M, 1, embeddings_regularizer=l2(reg))(m)"
   ],
   "metadata": {
    "collapsed": false
   }
  },
  {
   "cell_type": "code",
   "execution_count": 13,
   "outputs": [],
   "source": [
    "x = layers.Dot(axes=2)([u_embedding, m_embedding])"
   ],
   "metadata": {
    "collapsed": false
   }
  },
  {
   "cell_type": "code",
   "execution_count": 14,
   "outputs": [],
   "source": [
    "x = layers.Add()([x, u_bias, m_bias])"
   ],
   "metadata": {
    "collapsed": false
   }
  },
  {
   "cell_type": "code",
   "execution_count": 15,
   "outputs": [],
   "source": [
    "x = layers.Flatten()(x)"
   ],
   "metadata": {
    "collapsed": false
   }
  },
  {
   "cell_type": "code",
   "execution_count": 16,
   "outputs": [],
   "source": [
    "model = Model(inputs=[u, m], outputs=x)"
   ],
   "metadata": {
    "collapsed": false
   }
  },
  {
   "cell_type": "code",
   "execution_count": 17,
   "outputs": [
    {
     "name": "stdout",
     "output_type": "stream",
     "text": [
      "Model: \"model\"\n",
      "__________________________________________________________________________________________________\n",
      " Layer (type)                   Output Shape         Param #     Connected to                     \n",
      "==================================================================================================\n",
      " input_1 (InputLayer)           [(None, 1)]          0           []                               \n",
      "                                                                                                  \n",
      " input_2 (InputLayer)           [(None, 1)]          0           []                               \n",
      "                                                                                                  \n",
      " embedding (Embedding)          (None, 1, 20)        200000      ['input_1[0][0]']                \n",
      "                                                                                                  \n",
      " embedding_1 (Embedding)        (None, 1, 20)        40000       ['input_2[0][0]']                \n",
      "                                                                                                  \n",
      " dot (Dot)                      (None, 1, 1)         0           ['embedding[0][0]',              \n",
      "                                                                  'embedding_1[0][0]']            \n",
      "                                                                                                  \n",
      " embedding_2 (Embedding)        (None, 1, 1)         10000       ['input_1[0][0]']                \n",
      "                                                                                                  \n",
      " embedding_3 (Embedding)        (None, 1, 1)         2000        ['input_2[0][0]']                \n",
      "                                                                                                  \n",
      " add (Add)                      (None, 1, 1)         0           ['dot[0][0]',                    \n",
      "                                                                  'embedding_2[0][0]',            \n",
      "                                                                  'embedding_3[0][0]']            \n",
      "                                                                                                  \n",
      " flatten (Flatten)              (None, 1)            0           ['add[0][0]']                    \n",
      "                                                                                                  \n",
      "==================================================================================================\n",
      "Total params: 252,000\n",
      "Trainable params: 252,000\n",
      "Non-trainable params: 0\n",
      "__________________________________________________________________________________________________\n"
     ]
    }
   ],
   "source": [
    "model.summary()"
   ],
   "metadata": {
    "collapsed": false
   }
  },
  {
   "cell_type": "code",
   "execution_count": 18,
   "outputs": [],
   "source": [
    "model.compile(\n",
    "    loss='mse',\n",
    "    optimizer=SGD(learning_rate=0.01, momentum=0.9),\n",
    "    metrics=[MeanSquaredError()]\n",
    ")"
   ],
   "metadata": {
    "collapsed": false
   }
  },
  {
   "cell_type": "code",
   "execution_count": 19,
   "outputs": [
    {
     "name": "stdout",
     "output_type": "stream",
     "text": [
      "Epoch 1/25\n"
     ]
    },
    {
     "name": "stderr",
     "output_type": "stream",
     "text": [
      "2022-12-25 21:30:16.716488: W tensorflow/core/platform/profile_utils/cpu_utils.cc:128] Failed to get CPU frequency: 0 Hz\n",
      "2022-12-25 21:30:16.984230: I tensorflow/core/grappler/optimizers/custom_graph_optimizer_registry.cc:114] Plugin optimizer for device_type GPU is enabled.\n"
     ]
    },
    {
     "name": "stdout",
     "output_type": "stream",
     "text": [
      "26962/26962 [==============================] - ETA: 0s - loss: 0.8000 - mean_squared_error: 0.8000"
     ]
    },
    {
     "name": "stderr",
     "output_type": "stream",
     "text": [
      "2022-12-25 21:33:19.656101: I tensorflow/core/grappler/optimizers/custom_graph_optimizer_registry.cc:114] Plugin optimizer for device_type GPU is enabled.\n"
     ]
    },
    {
     "name": "stdout",
     "output_type": "stream",
     "text": [
      "26962/26962 [==============================] - 206s 8ms/step - loss: 0.8000 - mean_squared_error: 0.8000 - val_loss: 0.7207 - val_mean_squared_error: 0.7207\n",
      "Epoch 2/25\n",
      "26962/26962 [==============================] - 204s 8ms/step - loss: 0.7016 - mean_squared_error: 0.7016 - val_loss: 0.6870 - val_mean_squared_error: 0.6870\n",
      "Epoch 3/25\n",
      "26962/26962 [==============================] - 200s 7ms/step - loss: 0.6811 - mean_squared_error: 0.6811 - val_loss: 0.6761 - val_mean_squared_error: 0.6761\n",
      "Epoch 4/25\n",
      "26962/26962 [==============================] - 321s 12ms/step - loss: 0.6737 - mean_squared_error: 0.6737 - val_loss: 0.6720 - val_mean_squared_error: 0.6720\n",
      "Epoch 5/25\n",
      "26962/26962 [==============================] - 202s 7ms/step - loss: 0.6706 - mean_squared_error: 0.6706 - val_loss: 0.6703 - val_mean_squared_error: 0.6703\n",
      "Epoch 6/25\n",
      "26962/26962 [==============================] - 201s 7ms/step - loss: 0.6693 - mean_squared_error: 0.6693 - val_loss: 0.6695 - val_mean_squared_error: 0.6695\n",
      "Epoch 7/25\n",
      "26962/26962 [==============================] - 210s 8ms/step - loss: 0.6685 - mean_squared_error: 0.6685 - val_loss: 0.6692 - val_mean_squared_error: 0.6692\n",
      "Epoch 8/25\n",
      "26962/26962 [==============================] - 207s 8ms/step - loss: 0.6681 - mean_squared_error: 0.6681 - val_loss: 0.6689 - val_mean_squared_error: 0.6689\n",
      "Epoch 9/25\n",
      "26962/26962 [==============================] - 208s 8ms/step - loss: 0.6677 - mean_squared_error: 0.6677 - val_loss: 0.6687 - val_mean_squared_error: 0.6687\n",
      "Epoch 10/25\n",
      "26962/26962 [==============================] - 200s 7ms/step - loss: 0.6672 - mean_squared_error: 0.6672 - val_loss: 0.6683 - val_mean_squared_error: 0.6683\n",
      "Epoch 11/25\n",
      "26962/26962 [==============================] - 201s 7ms/step - loss: 0.6666 - mean_squared_error: 0.6666 - val_loss: 0.6677 - val_mean_squared_error: 0.6677\n",
      "Epoch 12/25\n",
      "26962/26962 [==============================] - 202s 7ms/step - loss: 0.6655 - mean_squared_error: 0.6655 - val_loss: 0.6665 - val_mean_squared_error: 0.6665\n",
      "Epoch 13/25\n",
      "26962/26962 [==============================] - 207s 8ms/step - loss: 0.6638 - mean_squared_error: 0.6638 - val_loss: 0.6646 - val_mean_squared_error: 0.6646\n",
      "Epoch 14/25\n",
      "26962/26962 [==============================] - 206s 8ms/step - loss: 0.6609 - mean_squared_error: 0.6609 - val_loss: 0.6615 - val_mean_squared_error: 0.6615\n",
      "Epoch 15/25\n",
      "26962/26962 [==============================] - 203s 8ms/step - loss: 0.6565 - mean_squared_error: 0.6565 - val_loss: 0.6567 - val_mean_squared_error: 0.6567\n",
      "Epoch 16/25\n",
      "26962/26962 [==============================] - 183s 7ms/step - loss: 0.6502 - mean_squared_error: 0.6502 - val_loss: 0.6503 - val_mean_squared_error: 0.6503\n",
      "Epoch 17/25\n",
      "26962/26962 [==============================] - 204s 8ms/step - loss: 0.6426 - mean_squared_error: 0.6426 - val_loss: 0.6430 - val_mean_squared_error: 0.6430\n",
      "Epoch 18/25\n",
      "26962/26962 [==============================] - 205s 8ms/step - loss: 0.6345 - mean_squared_error: 0.6345 - val_loss: 0.6361 - val_mean_squared_error: 0.6361\n",
      "Epoch 19/25\n",
      "26962/26962 [==============================] - 204s 8ms/step - loss: 0.6270 - mean_squared_error: 0.6270 - val_loss: 0.6299 - val_mean_squared_error: 0.6299\n",
      "Epoch 20/25\n",
      "26962/26962 [==============================] - 203s 8ms/step - loss: 0.6202 - mean_squared_error: 0.6202 - val_loss: 0.6245 - val_mean_squared_error: 0.6245\n",
      "Epoch 21/25\n",
      "26962/26962 [==============================] - 206s 8ms/step - loss: 0.6138 - mean_squared_error: 0.6138 - val_loss: 0.6191 - val_mean_squared_error: 0.6191\n",
      "Epoch 22/25\n",
      "26962/26962 [==============================] - 204s 8ms/step - loss: 0.6074 - mean_squared_error: 0.6074 - val_loss: 0.6139 - val_mean_squared_error: 0.6139\n",
      "Epoch 23/25\n",
      "26962/26962 [==============================] - 209s 8ms/step - loss: 0.6008 - mean_squared_error: 0.6008 - val_loss: 0.6086 - val_mean_squared_error: 0.6086\n",
      "Epoch 24/25\n",
      "26962/26962 [==============================] - 210s 8ms/step - loss: 0.5940 - mean_squared_error: 0.5940 - val_loss: 0.6034 - val_mean_squared_error: 0.6034\n",
      "Epoch 25/25\n",
      "26962/26962 [==============================] - 211s 8ms/step - loss: 0.5873 - mean_squared_error: 0.5873 - val_loss: 0.5983 - val_mean_squared_error: 0.5983\n"
     ]
    }
   ],
   "source": [
    "history = model.fit(\n",
    "    x = [df_train['userId'].values, df_train['movieId'].values],\n",
    "    y = df_train['rating'].values - mu,\n",
    "    epochs = epochs,\n",
    "    batch_size = 128,\n",
    "    validation_split=0.2\n",
    ")"
   ],
   "metadata": {
    "collapsed": false
   }
  },
  {
   "cell_type": "code",
   "execution_count": 20,
   "outputs": [
    {
     "data": {
      "text/plain": "<Figure size 640x480 with 1 Axes>",
      "image/png": "[encoded data removed]"
     },
     "metadata": {},
     "output_type": "display_data"
    }
   ],
   "source": [
    "plt.plot(history.history['loss'], label=\"train loss\")\n",
    "plt.plot(history.history['val_loss'], label=\"validation loss\")\n",
    "plt.legend()\n",
    "plt.show()"
   ],
   "metadata": {
    "collapsed": false
   }
  },
  {
   "cell_type": "code",
   "execution_count": 21,
   "outputs": [
    {
     "data": {
      "text/plain": "<Figure size 640x480 with 1 Axes>",
      "image/png": "[encoded data removed]"
     },
     "metadata": {},
     "output_type": "display_data"
    }
   ],
   "source": [
    "plt.plot(history.history['mean_squared_error'], label=\"train mse\")\n",
    "plt.plot(history.history['val_mean_squared_error'], label=\"validation mse\")\n",
    "plt.legend()\n",
    "plt.show()"
   ],
   "metadata": {
    "collapsed": false
   }
  },
  {
   "cell_type": "code",
   "execution_count": 22,
   "outputs": [
    {
     "name": "stdout",
     "output_type": "stream",
     "text": [
      "   49/33702 [..............................] - ETA: 1:48"
     ]
    },
    {
     "name": "stderr",
     "output_type": "stream",
     "text": [
      "2022-12-25 22:57:45.067993: I tensorflow/core/grappler/optimizers/custom_graph_optimizer_registry.cc:114] Plugin optimizer for device_type GPU is enabled.\n"
     ]
    },
    {
     "name": "stdout",
     "output_type": "stream",
     "text": [
      "33702/33702 [==============================] - 80s 2ms/step\n",
      "The Trianing MSE is 0.584852933883667\n"
     ]
    }
   ],
   "source": [
    "y_pred = model.predict(\n",
    "    [df_train.userId.values, df_train.movieId.values],\n",
    "    batch_size=128\n",
    ")\n",
    "\n",
    "y_true = df_train.rating.values - mu\n",
    "mse = MeanSquaredError()\n",
    "print(f'The Trianing MSE is {mse(y_true, y_pred).numpy()}')"
   ],
   "metadata": {
    "collapsed": false
   }
  },
  {
   "cell_type": "code",
   "execution_count": 23,
   "outputs": [
    {
     "name": "stdout",
     "output_type": "stream",
     "text": [
      "33702/33702 [==============================] - 82s 2ms/step\n",
      "The test MSE is 0.6023701429367065\n"
     ]
    }
   ],
   "source": [
    "y_pred = model.predict(\n",
    "    [df_test.userId.values, df_test.movieId.values]\n",
    ")\n",
    "\n",
    "y_true = df_test.rating.values - mu\n",
    "mse = MeanSquaredError()\n",
    "print(f'The test MSE is {mse(y_true, y_pred).numpy()}')"
   ],
   "metadata": {
    "collapsed": false
   }
  },
  {
   "cell_type": "code",
   "execution_count": 26,
   "outputs": [],
   "source": [
    "from tensorflow.keras import backend as K"
   ],
   "metadata": {
    "collapsed": false
   }
  },
  {
   "cell_type": "code",
   "execution_count": 27,
   "outputs": [],
   "source": [
    "K.clear_session()"
   ],
   "metadata": {
    "collapsed": false
   }
  },
  {
   "cell_type": "code",
   "execution_count": null,
   "outputs": [],
   "source": [],
   "metadata": {
    "collapsed": false
   }
  }
 ],
 "metadata": {
  "kernelspec": {
   "display_name": "Python 3",
   "language": "python",
   "name": "python3"
  },
  "language_info": {
   "codemirror_mode": {
    "name": "ipython",
    "version": 2
   },
   "file_extension": ".py",
   "mimetype": "text/x-python",
   "name": "python",
   "nbconvert_exporter": "python",
   "pygments_lexer": "ipython2",
   "version": "2.7.6"
  }
 },
 "nbformat": 4,
 "nbformat_minor": 0
}
